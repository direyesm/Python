{
  "nbformat": 4,
  "nbformat_minor": 0,
  "metadata": {
    "colab": {
      "name": "EjemplosPython.ipynb",
      "provenance": [],
      "collapsed_sections": [],
      "authorship_tag": "ABX9TyOxxQxhuTsC+LsqoXqgfACf",
      "include_colab_link": true
    },
    "kernelspec": {
      "name": "python3",
      "display_name": "Python 3"
    }
  },
  "cells": [
    {
      "cell_type": "markdown",
      "metadata": {
        "id": "view-in-github",
        "colab_type": "text"
      },
      "source": [
        "<a href=\"https://colab.research.google.com/github/direyesm/Python/blob/main/EjemplosPython.ipynb\" target=\"_parent\"><img src=\"https://colab.research.google.com/assets/colab-badge.svg\" alt=\"Open In Colab\"/></a>"
      ]
    },
    {
      "cell_type": "code",
      "metadata": {
        "id": "AlkLQkSQLtZy",
        "outputId": "f4588e0d-0b15-4f27-b5ca-9ef5755de520",
        "colab": {
          "base_uri": "https://localhost:8080/"
        }
      },
      "source": [
        "print(\"Hola Mundo\")"
      ],
      "execution_count": null,
      "outputs": [
        {
          "output_type": "stream",
          "text": [
            "Hola Mundo\n"
          ],
          "name": "stdout"
        }
      ]
    },
    {
      "cell_type": "code",
      "metadata": {
        "id": "O7wvAthVvAwo",
        "outputId": "d22bf5ed-61b9-4ce5-f651-312ebca92bda",
        "colab": {
          "base_uri": "https://localhost:8080/"
        }
      },
      "source": [
        "listExample2 = [\"a\",\"b\",\"c\",\"d\",\"e\",\"f\",[1,4]]\n",
        "\n",
        "#SUBLIST\n",
        "print(listExample2[0:2])\n",
        "print(listExample2[1:5])\n",
        "\n",
        "print(listExample2[0:])\n",
        "print(listExample2[:4])"
      ],
      "execution_count": null,
      "outputs": [
        {
          "output_type": "stream",
          "text": [
            "['a', 'b']\n",
            "['b', 'c', 'd', 'e']\n",
            "['a', 'b', 'c', 'd', 'e', 'f', [1, 4]]\n",
            "['a', 'b', 'c', 'd']\n"
          ],
          "name": "stdout"
        }
      ]
    },
    {
      "cell_type": "code",
      "metadata": {
        "id": "i4B9KRnFyyjh",
        "outputId": "bbff2b00-65a9-4db0-b40c-aae7b455782c",
        "colab": {
          "base_uri": "https://localhost:8080/"
        }
      },
      "source": [
        "listExample2"
      ],
      "execution_count": null,
      "outputs": [
        {
          "output_type": "execute_result",
          "data": {
            "text/plain": [
              "['a', 'b', 'c', 'd', 'e', 'f', [1, 4]]"
            ]
          },
          "metadata": {
            "tags": []
          },
          "execution_count": 3
        }
      ]
    },
    {
      "cell_type": "code",
      "metadata": {
        "id": "gQPYGee7y8iA",
        "outputId": "08562d34-1b81-42d4-b0c2-0cff9cd4d399",
        "colab": {
          "base_uri": "https://localhost:8080/"
        }
      },
      "source": [
        "listExample2[0] = 0\n",
        "print(listExample2)\n",
        "listExample2[1:3] = [1,2]\n",
        "print(listExample2)"
      ],
      "execution_count": null,
      "outputs": [
        {
          "output_type": "stream",
          "text": [
            "[0, 'b', 'c', 'd', 'e', 'f', [1, 4]]\n",
            "[0, 1, 2, 'd', 'e', 'f', [1, 4]]\n"
          ],
          "name": "stdout"
        }
      ]
    },
    {
      "cell_type": "code",
      "metadata": {
        "id": "FOiRI1EMzg8F",
        "outputId": "9b35d367-f02c-43a7-ea6e-b65784b08782",
        "colab": {
          "base_uri": "https://localhost:8080/"
        }
      },
      "source": [
        "#Agregar elemento\n",
        "listExample2.append(\"NUEVO ELEMENTO\")\n",
        "print(listExample2)"
      ],
      "execution_count": null,
      "outputs": [
        {
          "output_type": "stream",
          "text": [
            "[0, 1, 2, 'd', 'e', 'f', [1, 4], 'NUEVO ELEMENTO']\n"
          ],
          "name": "stdout"
        }
      ]
    },
    {
      "cell_type": "code",
      "metadata": {
        "id": "Gb068cQqzxsv",
        "outputId": "01c83418-1f1f-40ea-dc30-36dd650e7c5f",
        "colab": {
          "base_uri": "https://localhost:8080/"
        }
      },
      "source": [
        "#Agregar por indice\n",
        "listExample2.insert(0,\"INICIO\")\n",
        "print(listExample2)"
      ],
      "execution_count": null,
      "outputs": [
        {
          "output_type": "stream",
          "text": [
            "['INICIO', 0, 1, 2, 'd', 'e', 'f', [1, 4], 'NUEVO ELEMENTO']\n"
          ],
          "name": "stdout"
        }
      ]
    },
    {
      "cell_type": "code",
      "metadata": {
        "id": "9wYS-7-nz6af",
        "outputId": "b1c94429-612f-41c9-ec5e-c657ebbe9e02",
        "colab": {
          "base_uri": "https://localhost:8080/"
        }
      },
      "source": [
        "#Para eliminar un elemento\n",
        "listExample2.remove(\"INICIO\")\n",
        "print(listExample2)"
      ],
      "execution_count": null,
      "outputs": [
        {
          "output_type": "stream",
          "text": [
            "[0, 1, 2, 'd', 'e', 'f', [1, 4], 'NUEVO ELEMENTO']\n"
          ],
          "name": "stdout"
        }
      ]
    },
    {
      "cell_type": "code",
      "metadata": {
        "id": "7qI06ObN0FFA",
        "outputId": "763235b9-8a0d-46d7-fe59-5e9cdcdd21b0",
        "colab": {
          "base_uri": "https://localhost:8080/"
        }
      },
      "source": [
        "#Eliminar con index\n",
        "del(listExample2[-1])\n",
        "print(listExample2)"
      ],
      "execution_count": null,
      "outputs": [
        {
          "output_type": "stream",
          "text": [
            "[0, 1, 2, 'd', 'e', 'f', [1, 4]]\n"
          ],
          "name": "stdout"
        }
      ]
    },
    {
      "cell_type": "code",
      "metadata": {
        "id": "XAwxgTwm0UIo",
        "outputId": "4073626f-d8ab-4186-98cb-06907ef7bf6e",
        "colab": {
          "base_uri": "https://localhost:8080/"
        }
      },
      "source": [
        "#Cambia un numero de la lista\n",
        "x = [1,2,3]\n",
        "y = x\n",
        "y[1] = \"b\"\n",
        "print(y)\n",
        "print(x)"
      ],
      "execution_count": null,
      "outputs": [
        {
          "output_type": "stream",
          "text": [
            "[1, 'b', 3]\n",
            "[1, 'b', 3]\n"
          ],
          "name": "stdout"
        }
      ]
    },
    {
      "cell_type": "code",
      "metadata": {
        "id": "Aurdfpmc09Vk",
        "outputId": "78f1a7e0-f110-4a2a-f58b-679e848ecf47",
        "colab": {
          "base_uri": "https://localhost:8080/"
        }
      },
      "source": [
        "#Copiar lista\n",
        "x = [1,2,3]\n",
        "#  y = x.copy  copia la lista\n",
        "y = list(x)\n",
        "y[1] = \"b\"\n",
        "print(y)\n",
        "print(x)"
      ],
      "execution_count": null,
      "outputs": [
        {
          "output_type": "stream",
          "text": [
            "[1, 'b', 3]\n",
            "[1, 2, 3]\n"
          ],
          "name": "stdout"
        }
      ]
    },
    {
      "cell_type": "code",
      "metadata": {
        "id": "-21NF-mT1a1J",
        "outputId": "36f630c6-b7e8-4019-94b4-cd81643fe0ad",
        "colab": {
          "base_uri": "https://localhost:8080/"
        }
      },
      "source": [
        "#For en python\n",
        "for x in listExample2:\n",
        "  print(x)"
      ],
      "execution_count": null,
      "outputs": [
        {
          "output_type": "stream",
          "text": [
            "0\n",
            "1\n",
            "2\n",
            "d\n",
            "e\n",
            "f\n",
            "[1, 4]\n"
          ],
          "name": "stdout"
        }
      ]
    },
    {
      "cell_type": "code",
      "metadata": {
        "id": "B0fXfB2q12Ai"
      },
      "source": [
        "#Funciones python\n",
        "def test_function():\n",
        "  print(\"I´m a function\")"
      ],
      "execution_count": null,
      "outputs": []
    },
    {
      "cell_type": "code",
      "metadata": {
        "id": "0UOLlw7y2FpG",
        "outputId": "d5050cda-ed91-4289-bdaf-3838887d50eb",
        "colab": {
          "base_uri": "https://localhost:8080/"
        }
      },
      "source": [
        "test_function()"
      ],
      "execution_count": null,
      "outputs": [
        {
          "output_type": "stream",
          "text": [
            "I´m a function\n"
          ],
          "name": "stdout"
        }
      ]
    },
    {
      "cell_type": "code",
      "metadata": {
        "id": "-CN0LMPk2aos"
      },
      "source": [
        "def grettings(name = \"Diego\"):\n",
        "  print(\"Hello \" + name)"
      ],
      "execution_count": null,
      "outputs": []
    },
    {
      "cell_type": "code",
      "metadata": {
        "id": "y_yHqNS02klL",
        "outputId": "4c4fd1dc-f7f0-4e59-f701-7b8e5487cf34",
        "colab": {
          "base_uri": "https://localhost:8080/"
        }
      },
      "source": [
        "grettings()"
      ],
      "execution_count": null,
      "outputs": [
        {
          "output_type": "stream",
          "text": [
            "Hello Diego\n"
          ],
          "name": "stdout"
        }
      ]
    },
    {
      "cell_type": "code",
      "metadata": {
        "id": "um6QUVo93GsH",
        "outputId": "8f2168af-2ab3-4ba5-a7f3-404bc5280d44",
        "colab": {
          "base_uri": "https://localhost:8080/"
        }
      },
      "source": [
        "def func_mult(x):\n",
        " return x*5\n",
        "\n",
        "print(func_mult(2)) \n",
        "print(func_mult(10))\n",
        "print(func_mult(6))     "
      ],
      "execution_count": null,
      "outputs": [
        {
          "output_type": "stream",
          "text": [
            "10\n",
            "50\n",
            "30\n"
          ],
          "name": "stdout"
        }
      ]
    },
    {
      "cell_type": "code",
      "metadata": {
        "id": "w49AbOYF3b0o",
        "outputId": "3cdf6961-d3df-4b0d-d60b-5b8fb57a6e40",
        "colab": {
          "base_uri": "https://localhost:8080/"
        }
      },
      "source": [
        "listExample3 = [12312436546,1,2,5121,612,651,100,19999999]\n",
        "print(max(listExample3))\n",
        "print(sorted(listExample3))\n",
        "print(sorted(listExample3,reverse = True))"
      ],
      "execution_count": null,
      "outputs": [
        {
          "output_type": "stream",
          "text": [
            "12312436546\n",
            "[1, 2, 100, 612, 651, 5121, 19999999, 12312436546]\n",
            "[12312436546, 19999999, 5121, 651, 612, 100, 2, 1]\n"
          ],
          "name": "stdout"
        }
      ]
    },
    {
      "cell_type": "code",
      "metadata": {
        "id": "qnVVTE9B39PN",
        "outputId": "ab1b258e-3595-4a6d-cb7f-96827400bfbc",
        "colab": {
          "base_uri": "https://localhost:8080/"
        }
      },
      "source": [
        "num = 5.5441\n",
        "round(num,2)"
      ],
      "execution_count": null,
      "outputs": [
        {
          "output_type": "execute_result",
          "data": {
            "text/plain": [
              "5.54"
            ]
          },
          "metadata": {
            "tags": []
          },
          "execution_count": 27
        }
      ]
    },
    {
      "cell_type": "code",
      "metadata": {
        "id": "JJPBLEPd4YwJ",
        "outputId": "a3ffa02f-7647-4568-f8aa-9ae1a220f6f3",
        "colab": {
          "base_uri": "https://localhost:8080/"
        }
      },
      "source": [
        "listExample4 = [\"Hello\",\"ICT\",\"Students\",\"AI\"]\n",
        "print(listExample4.index(\"Hello\"))"
      ],
      "execution_count": null,
      "outputs": [
        {
          "output_type": "stream",
          "text": [
            "0\n"
          ],
          "name": "stdout"
        }
      ]
    },
    {
      "cell_type": "code",
      "metadata": {
        "id": "VxjCkFuJ41ZB",
        "outputId": "ba660a08-dcec-4fc9-ecea-302249b03d6c",
        "colab": {
          "base_uri": "https://localhost:8080/"
        }
      },
      "source": [
        "import numpy\n",
        "\n",
        "numpy.array([1,2,3])"
      ],
      "execution_count": null,
      "outputs": [
        {
          "output_type": "execute_result",
          "data": {
            "text/plain": [
              "array([1, 2, 3])"
            ]
          },
          "metadata": {
            "tags": []
          },
          "execution_count": 29
        }
      ]
    },
    {
      "cell_type": "code",
      "metadata": {
        "id": "CGCsHJ7k5RFK",
        "outputId": "575f73d0-ed94-44ba-c6d0-aabcc1deb873",
        "colab": {
          "base_uri": "https://localhost:8080/"
        }
      },
      "source": [
        "import numpy as np\n",
        "np.array([1,2,3])"
      ],
      "execution_count": null,
      "outputs": [
        {
          "output_type": "execute_result",
          "data": {
            "text/plain": [
              "array([1, 2, 3])"
            ]
          },
          "metadata": {
            "tags": []
          },
          "execution_count": 30
        }
      ]
    },
    {
      "cell_type": "code",
      "metadata": {
        "id": "I8by8o8P5jUo",
        "outputId": "11f87504-a598-4327-cbb2-d9b0afd6dda4",
        "colab": {
          "base_uri": "https://localhost:8080/"
        }
      },
      "source": [
        "from numpy import array\n",
        "array([1,2,3])"
      ],
      "execution_count": null,
      "outputs": [
        {
          "output_type": "execute_result",
          "data": {
            "text/plain": [
              "array([1, 2, 3])"
            ]
          },
          "metadata": {
            "tags": []
          },
          "execution_count": 31
        }
      ]
    },
    {
      "cell_type": "code",
      "metadata": {
        "id": "XTbAgS6z6Eyf",
        "outputId": "90ce4110-ec08-403b-8baa-52f26f29e16f",
        "colab": {
          "base_uri": "https://localhost:8080/"
        }
      },
      "source": [
        "import numpy as np\n",
        "weigth = [66.6,78.9,99.8]\n",
        "heigth = [1.95,1.60,1.89]\n",
        "\n",
        "print(weigth)\n",
        "print(heigth)\n",
        "\n",
        "#indice de masa corporal\n",
        "np_weigth = np.array(weigth)\n",
        "np_heigth = np.array(heigth)\n",
        "\n",
        "imc = np_weigth / np_heigth ** 2\n",
        "print(imc)"
      ],
      "execution_count": null,
      "outputs": [
        {
          "output_type": "stream",
          "text": [
            "[66.6, 78.9, 99.8]\n",
            "[1.95, 1.6, 1.89]\n",
            "[17.5147929  30.8203125  27.93874752]\n"
          ],
          "name": "stdout"
        }
      ]
    },
    {
      "cell_type": "code",
      "metadata": {
        "id": "aemVPOdj7A6T",
        "outputId": "6029c848-f614-41a6-dc9e-6bc462ed772e",
        "colab": {
          "base_uri": "https://localhost:8080/"
        }
      },
      "source": [
        "listExample5 = [1,2,3]\n",
        "np_listExample5 = np.array([1,2,3])\n",
        "\n",
        "print(listExample5 + listExample5)\n",
        "print(np_listExample5 + np_listExample5)"
      ],
      "execution_count": null,
      "outputs": [
        {
          "output_type": "stream",
          "text": [
            "[1, 2, 3, 1, 2, 3]\n",
            "[2 4 6]\n"
          ],
          "name": "stdout"
        }
      ]
    },
    {
      "cell_type": "code",
      "metadata": {
        "id": "XhTUgubn7bm2",
        "outputId": "ed9a02df-f62e-4681-f343-9d931efed72b",
        "colab": {
          "base_uri": "https://localhost:8080/"
        }
      },
      "source": [
        "print(imc)\n",
        "imc = np.round(imc,2)\n",
        "print(imc)\n",
        "\n",
        "print(imc[0])\n",
        "print(imc > 20)\n",
        "print(imc[imc > 20])\n"
      ],
      "execution_count": null,
      "outputs": [
        {
          "output_type": "stream",
          "text": [
            "[17.5147929  30.8203125  27.93874752]\n",
            "[17.51 30.82 27.94]\n",
            "17.51\n",
            "[False  True  True]\n",
            "[30.82 27.94]\n"
          ],
          "name": "stdout"
        }
      ]
    },
    {
      "cell_type": "code",
      "metadata": {
        "id": "whvqurz98AZX",
        "outputId": "50e5b2f5-74f3-4c83-fb4c-92a121f22e8f",
        "colab": {
          "base_uri": "https://localhost:8080/"
        }
      },
      "source": [
        "\n",
        "np_2d = np.array([[66.6,78.9,99.8],[1.95,1.60,1.89]])\n",
        "print(np_2d)\n",
        "print(np_2d.shape) "
      ],
      "execution_count": null,
      "outputs": [
        {
          "output_type": "stream",
          "text": [
            "[[66.6  78.9  99.8 ]\n",
            " [ 1.95  1.6   1.89]]\n",
            "(2, 3)\n"
          ],
          "name": "stdout"
        }
      ]
    },
    {
      "cell_type": "code",
      "metadata": {
        "id": "vsZeUpkj8m7r",
        "outputId": "8063bbed-8272-40e6-a27e-70e155ac5c24",
        "colab": {
          "base_uri": "https://localhost:8080/"
        }
      },
      "source": [
        "print(np_2d)"
      ],
      "execution_count": null,
      "outputs": [
        {
          "output_type": "stream",
          "text": [
            "[[66.6  78.9  99.8 ]\n",
            " [ 1.95  1.6   1.89]]\n"
          ],
          "name": "stdout"
        }
      ]
    },
    {
      "cell_type": "code",
      "metadata": {
        "id": "RCZNHfFA8qui",
        "outputId": "5cd140e3-58fb-4464-8d77-5e6b30906af5",
        "colab": {
          "base_uri": "https://localhost:8080/"
        }
      },
      "source": [
        "#Muestra la primera columna\n",
        "print(np_2d[0])"
      ],
      "execution_count": null,
      "outputs": [
        {
          "output_type": "stream",
          "text": [
            "[66.6 78.9 99.8]\n"
          ],
          "name": "stdout"
        }
      ]
    },
    {
      "cell_type": "code",
      "metadata": {
        "id": "CP0e1-ss8wxc",
        "outputId": "234fe534-07a5-4dbb-a8e3-4a5c11a0ec8b",
        "colab": {
          "base_uri": "https://localhost:8080/"
        }
      },
      "source": [
        "#Muestra el primer numero de la primera columna\n",
        "print(np_2d[0,0])"
      ],
      "execution_count": null,
      "outputs": [
        {
          "output_type": "stream",
          "text": [
            "66.6\n"
          ],
          "name": "stdout"
        }
      ]
    },
    {
      "cell_type": "code",
      "metadata": {
        "id": "wFI36SlI86QD",
        "outputId": "e20fe53e-9805-4426-f29e-fe17bde9ef8f",
        "colab": {
          "base_uri": "https://localhost:8080/"
        }
      },
      "source": [
        "#Que muestro solo 2 columna de todo el array\n",
        "print(np_2d[:,0:2])"
      ],
      "execution_count": null,
      "outputs": [
        {
          "output_type": "stream",
          "text": [
            "[[66.6  78.9 ]\n",
            " [ 1.95  1.6 ]]\n"
          ],
          "name": "stdout"
        }
      ]
    },
    {
      "cell_type": "code",
      "metadata": {
        "id": "ibyPJN0F9Bho",
        "outputId": "4feef209-b24c-4f3a-d069-999f2df2a7ba",
        "colab": {
          "base_uri": "https://localhost:8080/"
        }
      },
      "source": [
        "#Calcular el promedio\n",
        "prom = np.mean(np_2d[:,0])\n",
        "print(prom)"
      ],
      "execution_count": null,
      "outputs": [
        {
          "output_type": "stream",
          "text": [
            "34.275\n"
          ],
          "name": "stdout"
        }
      ]
    },
    {
      "cell_type": "code",
      "metadata": {
        "id": "9FiTQKsf9OYG",
        "outputId": "403fd18f-55c0-4646-baf3-fb6c1c6a08af",
        "colab": {
          "base_uri": "https://localhost:8080/",
          "height": 312
        }
      },
      "source": [
        "#Hacer grafico\n",
        "import matplotlib.pyplot as plt\n",
        "\n",
        "year = [1950,1970,1990,2010]\n",
        "pob = [2.5910,3.451,5.262,6.942]\n",
        "\n",
        "plt.scatter(year,pob)\n",
        "plt.xlabel(\"year\")\n",
        "plt.ylabel(\"poblacion (en millones)\")\n",
        "plt.title(\"World Population\")"
      ],
      "execution_count": null,
      "outputs": [
        {
          "output_type": "execute_result",
          "data": {
            "text/plain": [
              "Text(0.5, 1.0, 'World Population')"
            ]
          },
          "metadata": {
            "tags": []
          },
          "execution_count": 41
        },
        {
          "output_type": "display_data",
          "data": {
            "image/png": "[encoded data removed]",
            "text/plain": [
              "<Figure size 432x288 with 1 Axes>"
            ]
          },
          "metadata": {
            "tags": [],
            "needs_background": "light"
          }
        }
      ]
    },
    {
      "cell_type": "code",
      "metadata": {
        "id": "A0ylEewW-xQh",
        "outputId": "d3bffd93-a17d-4c68-a584-bcc7d397ff9b",
        "colab": {
          "base_uri": "https://localhost:8080/",
          "height": 287
        }
      },
      "source": [
        "labels = [\"A\",\"B\",\"C\"]\n",
        "values = [1,4,2]\n",
        "\n",
        "plt.figure(figsize=(5,3),dpi=100)\n",
        "\n",
        "bars = plt.bar(labels, values)\n",
        "\n",
        "patterns = [\"/\",'O',\"*\"]\n",
        "\n",
        "for bar in bars:\n",
        "  bar.set_hatch(patterns.pop(0))\n",
        "\n",
        "  plt.savefig(\"graph.png\", dpi= 300)"
      ],
      "execution_count": null,
      "outputs": [
        {
          "output_type": "display_data",
          "data": {
            "image/png": "[encoded data removed]",
            "text/plain": [
              "<Figure size 500x300 with 1 Axes>"
            ]
          },
          "metadata": {
            "tags": [],
            "needs_background": "light"
          }
        }
      ]
    },
    {
      "cell_type": "code",
      "metadata": {
        "id": "Da5HAWWjAFig",
        "outputId": "2fae4f31-7507-4c14-bbe6-89b89f35f39e",
        "colab": {
          "base_uri": "https://localhost:8080/"
        }
      },
      "source": [
        "world = {\n",
        "    \"Chile\": 15.90,\n",
        "    \"Argentina\": 21.09,\n",
        "    \"Mexico\": 11.90\n",
        "}\n",
        "#Mostrar todo diccionario\n",
        "print(world)\n",
        "#Mostrar un especifico\n",
        "print(world[\"Chile\"])\n",
        "#agregar un dato\n",
        "world[\"Brasil\"] = 14.0\n",
        "print(world)"
      ],
      "execution_count": null,
      "outputs": [
        {
          "output_type": "stream",
          "text": [
            "{'Chile': 15.9, 'Argentina': 21.09, 'Mexico': 11.9}\n",
            "15.9\n",
            "{'Chile': 15.9, 'Argentina': 21.09, 'Mexico': 11.9, 'Brasil': 14.0}\n"
          ],
          "name": "stdout"
        }
      ]
    },
    {
      "cell_type": "code",
      "metadata": {
        "id": "hiM9lWg5BIb5",
        "outputId": "38789a30-401f-4212-abda-5913e2d40fdb",
        "colab": {
          "base_uri": "https://localhost:8080/"
        }
      },
      "source": [
        "dic_world = {\n",
        "    \"country\" : [\"Brasil\",\"Mexico\",\"Argentina\"],\n",
        "    \"capital\" : [\"Brasilia\",\"CDMX\",\"BA\"],\n",
        "    \"population\": [14.0,11.98,21.09]\n",
        "}\n",
        "#print(dic_world)\n",
        "#print(dic_world[\"country\"])\n",
        "\n",
        "for w in dic_world.values():\n",
        " print(w)"
      ],
      "execution_count": null,
      "outputs": [
        {
          "output_type": "stream",
          "text": [
            "['Brasil', 'Mexico', 'Argentina']\n",
            "['Brasilia', 'CDMX', 'BA']\n",
            "[14.0, 11.98, 21.09]\n"
          ],
          "name": "stdout"
        }
      ]
    },
    {
      "cell_type": "code",
      "metadata": {
        "id": "VcD8bnjEB-OC",
        "outputId": "48f67cc8-b286-4901-8a0b-72b2169a5041",
        "colab": {
          "base_uri": "https://localhost:8080/"
        }
      },
      "source": [
        "import pandas as pd\n",
        "\n",
        "world_df = pd.DataFrame(dic_world)\n",
        "print(world_df)\n",
        "\n",
        "world_df.index = [\"BR\",\"MX\",\"AA\"]\n",
        "print(world_df)"
      ],
      "execution_count": null,
      "outputs": [
        {
          "output_type": "stream",
          "text": [
            "     country   capital  population\n",
            "0     Brasil  Brasilia       14.00\n",
            "1     Mexico      CDMX       11.98\n",
            "2  Argentina        BA       21.09\n",
            "      country   capital  population\n",
            "BR     Brasil  Brasilia       14.00\n",
            "MX     Mexico      CDMX       11.98\n",
            "AA  Argentina        BA       21.09\n"
          ],
          "name": "stdout"
        }
      ]
    },
    {
      "cell_type": "code",
      "metadata": {
        "id": "9WSA2cEdCnzc",
        "outputId": "08010293-d47b-4fab-c744-4f1b7f012913",
        "colab": {
          "base_uri": "https://localhost:8080/"
        }
      },
      "source": [
        "print(world_df[\"capital\"])"
      ],
      "execution_count": null,
      "outputs": [
        {
          "output_type": "stream",
          "text": [
            "BR    Brasilia\n",
            "MX        CDMX\n",
            "AA          BA\n",
            "Name: capital, dtype: object\n"
          ],
          "name": "stdout"
        }
      ]
    },
    {
      "cell_type": "code",
      "metadata": {
        "id": "FzA4_jWlCzAo",
        "outputId": "96b1fe97-676f-465b-e034-7e95b7e499c0",
        "colab": {
          "base_uri": "https://localhost:8080/"
        }
      },
      "source": [
        "print(world_df[[\"capital\"]])"
      ],
      "execution_count": null,
      "outputs": [
        {
          "output_type": "stream",
          "text": [
            "     capital\n",
            "BR  Brasilia\n",
            "MX      CDMX\n",
            "AA        BA\n"
          ],
          "name": "stdout"
        }
      ]
    },
    {
      "cell_type": "code",
      "metadata": {
        "id": "n0H4qkckC6Yq",
        "outputId": "07e9f461-bed3-43b3-fd9d-799e92f98e0e",
        "colab": {
          "base_uri": "https://localhost:8080/"
        }
      },
      "source": [
        "print(world_df[1:3])"
      ],
      "execution_count": null,
      "outputs": [
        {
          "output_type": "stream",
          "text": [
            "      country capital  population\n",
            "MX     Mexico    CDMX       11.98\n",
            "AA  Argentina      BA       21.09\n"
          ],
          "name": "stdout"
        }
      ]
    },
    {
      "cell_type": "code",
      "metadata": {
        "id": "d7h-zhClDILT",
        "outputId": "4ba13fba-9b10-44ec-f753-c57ae29ce32c",
        "colab": {
          "base_uri": "https://localhost:8080/",
          "height": 142
        }
      },
      "source": [
        "world_df"
      ],
      "execution_count": null,
      "outputs": [
        {
          "output_type": "execute_result",
          "data": {
            "text/html": [
              "<div>\n",
              "<style scoped>\n",
              "    .dataframe tbody tr th:only-of-type {\n",
              "        vertical-align: middle;\n",
              "    }\n",
              "\n",
              "    .dataframe tbody tr th {\n",
              "        vertical-align: top;\n",
              "    }\n",
              "\n",
              "    .dataframe thead th {\n",
              "        text-align: right;\n",
              "    }\n",
              "</style>\n",
              "<table border=\"1\" class=\"dataframe\">\n",
              "  <thead>\n",
              "    <tr style=\"text-align: right;\">\n",
              "      <th></th>\n",
              "      <th>country</th>\n",
              "      <th>capital</th>\n",
              "      <th>population</th>\n",
              "    </tr>\n",
              "  </thead>\n",
              "  <tbody>\n",
              "    <tr>\n",
              "      <th>BR</th>\n",
              "      <td>Brasil</td>\n",
              "      <td>Brasilia</td>\n",
              "      <td>14.00</td>\n",
              "    </tr>\n",
              "    <tr>\n",
              "      <th>MX</th>\n",
              "      <td>Mexico</td>\n",
              "      <td>CDMX</td>\n",
              "      <td>11.98</td>\n",
              "    </tr>\n",
              "    <tr>\n",
              "      <th>AA</th>\n",
              "      <td>Argentina</td>\n",
              "      <td>BA</td>\n",
              "      <td>21.09</td>\n",
              "    </tr>\n",
              "  </tbody>\n",
              "</table>\n",
              "</div>"
            ],
            "text/plain": [
              "      country   capital  population\n",
              "BR     Brasil  Brasilia       14.00\n",
              "MX     Mexico      CDMX       11.98\n",
              "AA  Argentina        BA       21.09"
            ]
          },
          "metadata": {
            "tags": []
          },
          "execution_count": 52
        }
      ]
    },
    {
      "cell_type": "code",
      "metadata": {
        "id": "dnrWm2anDKRo",
        "outputId": "2fd4da87-c828-43bf-abd1-78ed31d3c207",
        "colab": {
          "base_uri": "https://localhost:8080/"
        }
      },
      "source": [
        "#Con texto\n",
        "print(world_df.loc[[\"AA\",\"BR\"],[\"country\",\"capital\"]])"
      ],
      "execution_count": null,
      "outputs": [
        {
          "output_type": "stream",
          "text": [
            "      country   capital\n",
            "AA  Argentina        BA\n",
            "BR     Brasil  Brasilia\n"
          ],
          "name": "stdout"
        }
      ]
    },
    {
      "cell_type": "code",
      "metadata": {
        "id": "iN4-HimvDt9O",
        "outputId": "0c8a1983-225d-4835-afb1-90f5ba483b44",
        "colab": {
          "base_uri": "https://localhost:8080/"
        }
      },
      "source": [
        "#Con numero\n",
        "print(world_df.iloc[[0,2],[0,1]])"
      ],
      "execution_count": null,
      "outputs": [
        {
          "output_type": "stream",
          "text": [
            "      country   capital\n",
            "BR     Brasil  Brasilia\n",
            "AA  Argentina        BA\n"
          ],
          "name": "stdout"
        }
      ]
    },
    {
      "cell_type": "code",
      "metadata": {
        "id": "16_0fEvaE-OO",
        "outputId": "302e5182-fb39-412a-98fe-33a1f9fedfef",
        "colab": {
          "base_uri": "https://localhost:8080/"
        }
      },
      "source": [
        "world_df[\"population\"] > 13"
      ],
      "execution_count": null,
      "outputs": [
        {
          "output_type": "execute_result",
          "data": {
            "text/plain": [
              "BR     True\n",
              "MX    False\n",
              "AA     True\n",
              "Name: population, dtype: bool"
            ]
          },
          "metadata": {
            "tags": []
          },
          "execution_count": 55
        }
      ]
    },
    {
      "cell_type": "code",
      "metadata": {
        "id": "qbhLEtpZIRvy",
        "outputId": "f6ca82c2-63fb-4f4e-cd2a-eaf9b35de8d0",
        "colab": {
          "base_uri": "https://localhost:8080/"
        }
      },
      "source": [
        "print(world_df[world_df[\"population\"] > 13])"
      ],
      "execution_count": null,
      "outputs": [
        {
          "output_type": "stream",
          "text": [
            "      country   capital  population\n",
            "BR     Brasil  Brasilia       14.00\n",
            "AA  Argentina        BA       21.09\n"
          ],
          "name": "stdout"
        }
      ]
    },
    {
      "cell_type": "code",
      "metadata": {
        "id": "TRklqd4yIayS",
        "outputId": "5e7b4011-79af-4262-d9f3-6e4d950333d8",
        "colab": {
          "base_uri": "https://localhost:8080/"
        }
      },
      "source": [
        "for i,x in world_df.iterrows():\n",
        "  print(i + \": \"+x.capital)"
      ],
      "execution_count": null,
      "outputs": [
        {
          "output_type": "stream",
          "text": [
            "BR: Brasilia\n",
            "MX: CDMX\n",
            "AA: BA\n"
          ],
          "name": "stdout"
        }
      ]
    },
    {
      "cell_type": "code",
      "metadata": {
        "id": "x0YOwQk2IyuO",
        "outputId": "a0439891-6518-41b2-dd5e-6d367391367a",
        "colab": {
          "base_uri": "https://localhost:8080/"
        }
      },
      "source": [
        "fifa_df = pd.read_csv(\"fifa_data.csv\")\n",
        "\n",
        "print(fifa_df.head(10))\n",
        "fifa_df.Overall"
      ],
      "execution_count": null,
      "outputs": [
        {
          "output_type": "stream",
          "text": [
            "   Unnamed: 0      ID  ... GKReflexes  Release Clause\n",
            "0           0  158023  ...        8.0         €226.5M\n",
            "1           1   20801  ...       11.0         €127.1M\n",
            "2           2  190871  ...       11.0         €228.1M\n",
            "3           3  193080  ...       94.0         €138.6M\n",
            "4           4  192985  ...       13.0         €196.4M\n",
            "5           5  183277  ...        8.0         €172.1M\n",
            "6           6  177003  ...        9.0         €137.4M\n",
            "7           7  176580  ...       37.0           €164M\n",
            "8           8  155862  ...       11.0         €104.6M\n",
            "9           9  200389  ...       89.0         €144.5M\n",
            "\n",
            "[10 rows x 89 columns]\n"
          ],
          "name": "stdout"
        },
        {
          "output_type": "execute_result",
          "data": {
            "text/plain": [
              "0       94\n",
              "1       94\n",
              "2       92\n",
              "3       91\n",
              "4       91\n",
              "        ..\n",
              "4164    71\n",
              "4165    71\n",
              "4166    71\n",
              "4167    71\n",
              "4168    71\n",
              "Name: Overall, Length: 4169, dtype: int64"
            ]
          },
          "metadata": {
            "tags": []
          },
          "execution_count": 59
        }
      ]
    },
    {
      "cell_type": "code",
      "metadata": {
        "id": "C_nLNEYDKBeJ",
        "outputId": "30a89241-7b84-4281-d09e-39420eba856d",
        "colab": {
          "base_uri": "https://localhost:8080/",
          "height": 350
        }
      },
      "source": [
        "import matplotlib.pyplot as plt\n",
        "\n",
        "bins = [40,50,60,70,80,90,100]\n",
        "\n",
        "plt.figure(figsize=(8,5))\n",
        "\n",
        "plt.hist(fifa_df.Overall, bins=bins, color=\"#eb4034\")\n",
        "\n",
        "plt.ylabel(\"Numero de jugadores\")\n",
        "plt.xlabel(\"Nivel de Skill\")\n",
        "plt.title(\"Distribucion de skills de jugadores en fifa 2018\")\n",
        "\n",
        "plt.show()"
      ],
      "execution_count": null,
      "outputs": [
        {
          "output_type": "display_data",
          "data": {
            "image/png": "[encoded data removed]",
            "text/plain": [
              "<Figure size 576x360 with 1 Axes>"
            ]
          },
          "metadata": {
            "tags": [],
            "needs_background": "light"
          }
        }
      ]
    },
    {
      "cell_type": "code",
      "metadata": {
        "id": "kz7wG2xbLVwn",
        "outputId": "32133407-c986-45f6-d53b-bde01c4b17e9",
        "colab": {
          "base_uri": "https://localhost:8080/"
        }
      },
      "source": [
        "fifa_df.loc[fifa_df[\"Preferred Foot\"]==\"left\"].count()[0]"
      ],
      "execution_count": null,
      "outputs": [
        {
          "output_type": "execute_result",
          "data": {
            "text/plain": [
              "0"
            ]
          },
          "metadata": {
            "tags": []
          },
          "execution_count": 68
        }
      ]
    },
    {
      "cell_type": "code",
      "metadata": {
        "id": "wG85XUirL3BY",
        "outputId": "ac6b635c-7784-425b-968f-b79c1f35fe6a",
        "colab": {
          "base_uri": "https://localhost:8080/",
          "height": 336
        }
      },
      "source": [
        "left = fifa_df.loc[fifa_df[\"Preferred Foot\"]==\"Left\"].count()[0]\n",
        "right = fifa_df.loc[fifa_df[\"Preferred Foot\"]==\"Right\"].count()[0]\n",
        "\n",
        "plt.figure(figsize=(8,5))\n",
        "\n",
        "labels=[\"Left\",\"Right\"]\n",
        "colors = [\"#eb4034\",\"#1e1a75\"]\n",
        "\n",
        "plt.pie([left,right],labels=labels,colors=colors)\n",
        "\n",
        "plt.title(\"Preferencia de tiro de Jugadores de FIFA 2018\")"
      ],
      "execution_count": null,
      "outputs": [
        {
          "output_type": "execute_result",
          "data": {
            "text/plain": [
              "Text(0.5, 1.0, 'Preferencia de tiro de Jugadores de FIFA 2018')"
            ]
          },
          "metadata": {
            "tags": []
          },
          "execution_count": 67
        },
        {
          "output_type": "display_data",
          "data": {
            "image/png": "[encoded data removed]",
            "text/plain": [
              "<Figure size 576x360 with 1 Axes>"
            ]
          },
          "metadata": {
            "tags": []
          }
        }
      ]
    }
  ]
}